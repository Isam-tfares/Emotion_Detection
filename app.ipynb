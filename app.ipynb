{
 "cells": [
  {
   "cell_type": "markdown",
   "id": "5149bd8c",
   "metadata": {},
   "source": [
    "# Importing libraries and modules\n"
   ]
  },
  {
   "cell_type": "code",
   "execution_count": 15,
   "id": "906257a8",
   "metadata": {},
   "outputs": [],
   "source": [
    "import os # For work with directories\n",
    "import cv2 # For reading images and resize them\n",
    "import numpy as np\n",
    "from sklearn.utils import shuffle\n",
    "from sklearn.model_selection import train_test_split\n",
    "from sklearn.neural_network import MLPClassifier\n",
    "from sklearn.metrics import accuracy_score"
   ]
  },
  {
   "cell_type": "markdown",
   "id": "49f6c4c7",
   "metadata": {},
   "source": [
    "# Preparing data"
   ]
  },
  {
   "cell_type": "code",
   "execution_count": 24,
   "id": "732bbef0",
   "metadata": {},
   "outputs": [
    {
     "name": "stdout",
     "output_type": "stream",
     "text": [
      "(48, 48, 3)\n"
     ]
    }
   ],
   "source": [
    "listFolders = os.listdir('./data')\n",
    "data = []\n",
    "labels = []\n",
    "\n",
    "for i, folder in enumerate(listFolders):\n",
    "    imgs = os.listdir('./data/' + folder)\n",
    "    for img in imgs:\n",
    "        imgReaded = cv2.imread('./data/' + folder + '/' + img)\n",
    "        image_resized = cv2.resize(imgReaded, (48, 48))\n",
    "        image_resized = np.array(image_resized)\n",
    "        image_resized = image_resized / 255.0  # Normalize pixel values to [0, 1]\n",
    "        data.append(image_resized)\n",
    "\n",
    "        # label\n",
    "        label = np.zeros(len(listFolders))\n",
    "        label[i] = 1\n",
    "        labels.append(label)\n",
    "\n",
    "data = np.array(data)\n",
    "labels = np.array(labels)"
   ]
  },
  {
   "cell_type": "markdown",
   "id": "b2376c91",
   "metadata": {},
   "source": [
    "# Split data and  Flatten the image arrays"
   ]
  },
  {
   "cell_type": "code",
   "execution_count": 28,
   "id": "51e37ece",
   "metadata": {},
   "outputs": [],
   "source": [
    "data, labels = shuffle(data, labels, random_state=2)\n",
    "x_train, x_test, y_train, y_test = train_test_split(data, labels, test_size=0.2)\n",
    "\n",
    "x_train_flatten = x_train.reshape(x_train.shape[0], -1)\n",
    "x_test_flatten = x_test.reshape(x_test.shape[0], -1)"
   ]
  },
  {
   "cell_type": "markdown",
   "id": "d2f1fd85",
   "metadata": {},
   "source": [
    "# Creating Model"
   ]
  },
  {
   "cell_type": "code",
   "execution_count": 30,
   "id": "40eca1af",
   "metadata": {},
   "outputs": [
    {
     "name": "stderr",
     "output_type": "stream",
     "text": [
      "C:\\Users\\hp\\anaconda3\\Lib\\site-packages\\sklearn\\neural_network\\_multilayer_perceptron.py:691: ConvergenceWarning: Stochastic Optimizer: Maximum iterations (200) reached and the optimization hasn't converged yet.\n",
      "  warnings.warn(\n"
     ]
    },
    {
     "data": {
      "text/html": [
       "<style>#sk-container-id-7 {color: black;}#sk-container-id-7 pre{padding: 0;}#sk-container-id-7 div.sk-toggleable {background-color: white;}#sk-container-id-7 label.sk-toggleable__label {cursor: pointer;display: block;width: 100%;margin-bottom: 0;padding: 0.3em;box-sizing: border-box;text-align: center;}#sk-container-id-7 label.sk-toggleable__label-arrow:before {content: \"▸\";float: left;margin-right: 0.25em;color: #696969;}#sk-container-id-7 label.sk-toggleable__label-arrow:hover:before {color: black;}#sk-container-id-7 div.sk-estimator:hover label.sk-toggleable__label-arrow:before {color: black;}#sk-container-id-7 div.sk-toggleable__content {max-height: 0;max-width: 0;overflow: hidden;text-align: left;background-color: #f0f8ff;}#sk-container-id-7 div.sk-toggleable__content pre {margin: 0.2em;color: black;border-radius: 0.25em;background-color: #f0f8ff;}#sk-container-id-7 input.sk-toggleable__control:checked~div.sk-toggleable__content {max-height: 200px;max-width: 100%;overflow: auto;}#sk-container-id-7 input.sk-toggleable__control:checked~label.sk-toggleable__label-arrow:before {content: \"▾\";}#sk-container-id-7 div.sk-estimator input.sk-toggleable__control:checked~label.sk-toggleable__label {background-color: #d4ebff;}#sk-container-id-7 div.sk-label input.sk-toggleable__control:checked~label.sk-toggleable__label {background-color: #d4ebff;}#sk-container-id-7 input.sk-hidden--visually {border: 0;clip: rect(1px 1px 1px 1px);clip: rect(1px, 1px, 1px, 1px);height: 1px;margin: -1px;overflow: hidden;padding: 0;position: absolute;width: 1px;}#sk-container-id-7 div.sk-estimator {font-family: monospace;background-color: #f0f8ff;border: 1px dotted black;border-radius: 0.25em;box-sizing: border-box;margin-bottom: 0.5em;}#sk-container-id-7 div.sk-estimator:hover {background-color: #d4ebff;}#sk-container-id-7 div.sk-parallel-item::after {content: \"\";width: 100%;border-bottom: 1px solid gray;flex-grow: 1;}#sk-container-id-7 div.sk-label:hover label.sk-toggleable__label {background-color: #d4ebff;}#sk-container-id-7 div.sk-serial::before {content: \"\";position: absolute;border-left: 1px solid gray;box-sizing: border-box;top: 0;bottom: 0;left: 50%;z-index: 0;}#sk-container-id-7 div.sk-serial {display: flex;flex-direction: column;align-items: center;background-color: white;padding-right: 0.2em;padding-left: 0.2em;position: relative;}#sk-container-id-7 div.sk-item {position: relative;z-index: 1;}#sk-container-id-7 div.sk-parallel {display: flex;align-items: stretch;justify-content: center;background-color: white;position: relative;}#sk-container-id-7 div.sk-item::before, #sk-container-id-7 div.sk-parallel-item::before {content: \"\";position: absolute;border-left: 1px solid gray;box-sizing: border-box;top: 0;bottom: 0;left: 50%;z-index: -1;}#sk-container-id-7 div.sk-parallel-item {display: flex;flex-direction: column;z-index: 1;position: relative;background-color: white;}#sk-container-id-7 div.sk-parallel-item:first-child::after {align-self: flex-end;width: 50%;}#sk-container-id-7 div.sk-parallel-item:last-child::after {align-self: flex-start;width: 50%;}#sk-container-id-7 div.sk-parallel-item:only-child::after {width: 0;}#sk-container-id-7 div.sk-dashed-wrapped {border: 1px dashed gray;margin: 0 0.4em 0.5em 0.4em;box-sizing: border-box;padding-bottom: 0.4em;background-color: white;}#sk-container-id-7 div.sk-label label {font-family: monospace;font-weight: bold;display: inline-block;line-height: 1.2em;}#sk-container-id-7 div.sk-label-container {text-align: center;}#sk-container-id-7 div.sk-container {/* jupyter's `normalize.less` sets `[hidden] { display: none; }` but bootstrap.min.css set `[hidden] { display: none !important; }` so we also need the `!important` here to be able to override the default hidden behavior on the sphinx rendered scikit-learn.org. See: https://github.com/scikit-learn/scikit-learn/issues/21755 */display: inline-block !important;position: relative;}#sk-container-id-7 div.sk-text-repr-fallback {display: none;}</style><div id=\"sk-container-id-7\" class=\"sk-top-container\"><div class=\"sk-text-repr-fallback\"><pre>MLPClassifier(hidden_layer_sizes=(128, 64))</pre><b>In a Jupyter environment, please rerun this cell to show the HTML representation or trust the notebook. <br />On GitHub, the HTML representation is unable to render, please try loading this page with nbviewer.org.</b></div><div class=\"sk-container\" hidden><div class=\"sk-item\"><div class=\"sk-estimator sk-toggleable\"><input class=\"sk-toggleable__control sk-hidden--visually\" id=\"sk-estimator-id-7\" type=\"checkbox\" checked><label for=\"sk-estimator-id-7\" class=\"sk-toggleable__label sk-toggleable__label-arrow\">MLPClassifier</label><div class=\"sk-toggleable__content\"><pre>MLPClassifier(hidden_layer_sizes=(128, 64))</pre></div></div></div></div></div>"
      ],
      "text/plain": [
       "MLPClassifier(hidden_layer_sizes=(128, 64))"
      ]
     },
     "execution_count": 30,
     "metadata": {},
     "output_type": "execute_result"
    }
   ],
   "source": [
    "model = MLPClassifier(hidden_layer_sizes=(128, 64), activation='relu')\n",
    "model.fit(x_train_flatten, y_train)"
   ]
  },
  {
   "cell_type": "markdown",
   "id": "d7f233fc",
   "metadata": {},
   "source": [
    "# Accuracy"
   ]
  },
  {
   "cell_type": "code",
   "execution_count": 19,
   "id": "010352a9",
   "metadata": {},
   "outputs": [
    {
     "name": "stdout",
     "output_type": "stream",
     "text": [
      "Accuracy: 0.9847715736040609\n"
     ]
    }
   ],
   "source": [
    "y_pred = model.predict(x_test_flatten)\n",
    "accuracy = accuracy_score(y_test.argmax(axis=1), y_pred.argmax(axis=1))\n",
    "print(\"Accuracy:\", accuracy)\n"
   ]
  },
  {
   "cell_type": "markdown",
   "id": "ee5fae8c",
   "metadata": {},
   "source": [
    "# Predict"
   ]
  },
  {
   "cell_type": "code",
   "execution_count": 35,
   "id": "a1293045",
   "metadata": {},
   "outputs": [],
   "source": [
    "def load_and_preprocess_image(image_path):\n",
    "    imgReaded = cv2.imread(image_path)\n",
    "    image_resized = cv2.resize(imgReaded, (48, 48))\n",
    "    image_resized = np.array(image_resized)\n",
    "    image_resized = image_resized / 255.0\n",
    "    return image_resized\n",
    "def predict_emotion(image_path, model):\n",
    "    image = load_and_preprocess_image(image_path)\n",
    "    flattened_image = image.reshape(1, -1)  # Reshape to a 2D array\n",
    "    emotion_probs = model.predict_proba(flattened_image)\n",
    "    predicted_emotion_index = np.argmax(emotion_probs)\n",
    "    \n",
    "    # Define a list of emotion labels\n",
    "    emotion_labels = [\"Angry\", \"Contempt\", \"Disgust\", \"Fear\", \"Happy\", \"Sadness\", \"Surprise\"]\n",
    "    \n",
    "    predicted_emotion = emotion_labels[predicted_emotion_index]\n",
    "    return predicted_emotion"
   ]
  },
  {
   "cell_type": "code",
   "execution_count": 53,
   "id": "7d12d383",
   "metadata": {},
   "outputs": [],
   "source": [
    "def load_and_preprocess_image(image_path):\n",
    "    imgReaded = cv2.imread(image_path)\n",
    "    image_resized = cv2.resize(imgReaded, (48, 48))\n",
    "    image_resized = np.array(image_resized)\n",
    "    image_resized = image_resized / 255.0\n",
    "    return image_resized\n",
    "\n",
    "def face_detection(image_path):\n",
    "    image = cv2.imread(image_path)\n",
    "    face_cascade = cv2.CascadeClassifier(cv2.data.haarcascades + 'haarcascade_frontalface_default.xml')\n",
    "    faces = face_cascade.detectMultiScale(image, scaleFactor=1.1, minNeighbors=5, minSize=(30, 30))\n",
    "    return faces\n",
    "\n",
    "def predict_emotion(image_path, model):\n",
    "    faces = face_detection(image_path)\n",
    "    \n",
    "    if len(faces) == 0:\n",
    "        image = load_and_preprocess_image(image_path)\n",
    "        flattened_image = image.reshape(1, -1)  # Reshape to a 2D array\n",
    "        emotion_probs = model.predict_proba(flattened_image)\n",
    "        predicted_emotion_index = np.argmax(emotion_probs)\n",
    "    \n",
    "        # Define a list of emotion labels\n",
    "        emotion_labels = [\"Angry\", \"Contempt\", \"Disgust\", \"Fear\", \"Happy\", \"Sadness\", \"Surprise\"]\n",
    "    \n",
    "        predicted_emotion = emotion_labels[predicted_emotion_index]\n",
    "        return predicted_emotion\n",
    "    \n",
    "    # Consider the first detected face\n",
    "    (x, y, w, h) = faces[0]\n",
    "    face_image = cv2.imread(image_path)[y:y+h, x:x+w]\n",
    "    face_image = cv2.resize(face_image, (48, 48))\n",
    "    face_image = face_image / 255.0\n",
    "    \n",
    "    flattened_face = face_image.reshape(1, -1)  # Reshape to a 2D array\n",
    "    emotion_probs = model.predict_proba(flattened_face)\n",
    "    predicted_emotion_index = np.argmax(emotion_probs)\n",
    "    \n",
    "    # Define a list of emotion labels\n",
    "    emotion_labels = [\"Angry\", \"Contempt\", \"Disgust\", \"Fear\", \"Happy\", \"Sadness\", \"Surprise\"]\n",
    "    \n",
    "    predicted_emotion = emotion_labels[predicted_emotion_index]\n",
    "    return predicted_emotion"
   ]
  },
  {
   "cell_type": "code",
   "execution_count": 64,
   "id": "c0897ca2",
   "metadata": {},
   "outputs": [
    {
     "data": {
      "text/plain": [
       "'Surprise'"
      ]
     },
     "execution_count": 64,
     "metadata": {},
     "output_type": "execute_result"
    }
   ],
   "source": [
    "predict_emotion('surprise.jpg',model)"
   ]
  },
  {
   "cell_type": "code",
   "execution_count": null,
   "id": "a7da1573",
   "metadata": {},
   "outputs": [],
   "source": []
  },
  {
   "cell_type": "code",
   "execution_count": null,
   "id": "bf59904b",
   "metadata": {},
   "outputs": [],
   "source": []
  }
 ],
 "metadata": {
  "kernelspec": {
   "display_name": "Python 3 (ipykernel)",
   "language": "python",
   "name": "python3"
  },
  "language_info": {
   "codemirror_mode": {
    "name": "ipython",
    "version": 3
   },
   "file_extension": ".py",
   "mimetype": "text/x-python",
   "name": "python",
   "nbconvert_exporter": "python",
   "pygments_lexer": "ipython3",
   "version": "3.11.4"
  }
 },
 "nbformat": 4,
 "nbformat_minor": 5
}
